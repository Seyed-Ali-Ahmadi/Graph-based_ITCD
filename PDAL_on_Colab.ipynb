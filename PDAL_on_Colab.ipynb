{
  "nbformat": 4,
  "nbformat_minor": 0,
  "metadata": {
    "colab": {
      "provenance": [],
      "collapsed_sections": []
    },
    "kernelspec": {
      "name": "python3",
      "display_name": "Python 3"
    },
    "language_info": {
      "name": "python"
    }
  },
  "cells": [
    {
      "cell_type": "markdown",
      "source": [
        "[Stackoverflow](https://stackoverflow.com/questions/53031430/conda-environment-in-google-colab-google-colaboratory)\n",
        "\n",
        "[PDAL](https://pdal.io/quickstart.html)"
      ],
      "metadata": {
        "id": "A-y5omfguL1g"
      }
    },
    {
      "cell_type": "code",
      "execution_count": null,
      "metadata": {
        "id": "m8OLNnXvpk6X"
      },
      "outputs": [],
      "source": [
        "!wget -c https://repo.continuum.io/archive/Anaconda3-5.1.0-Linux-x86_64.sh"
      ]
    },
    {
      "cell_type": "code",
      "source": [
        "!chmod +x Anaconda3-5.1.0-Linux-x86_64.sh"
      ],
      "metadata": {
        "id": "nickQ4Hbp0rn"
      },
      "execution_count": null,
      "outputs": []
    },
    {
      "cell_type": "code",
      "source": [
        "!bash ./Anaconda3-5.1.0-Linux-x86_64.sh -b -f -p /usr/local"
      ],
      "metadata": {
        "id": "Powy-61Ip4AA"
      },
      "execution_count": null,
      "outputs": []
    },
    {
      "cell_type": "code",
      "source": [
        "!conda create --yes --name myenv --channel conda-forge pdal"
      ],
      "metadata": {
        "id": "wtLeJT4MqWgA"
      },
      "execution_count": null,
      "outputs": []
    },
    {
      "cell_type": "code",
      "source": [
        "# %%bash\n",
        "# source activate myenv"
      ],
      "metadata": {
        "id": "78-IHnyOp5uk"
      },
      "execution_count": null,
      "outputs": []
    },
    {
      "cell_type": "code",
      "source": [
        "# !source activate myenv && conda update pdal"
      ],
      "metadata": {
        "id": "zXXRshMKtF9A"
      },
      "execution_count": null,
      "outputs": []
    },
    {
      "cell_type": "code",
      "source": [
        "# !wget https://github.com/PDAL/data/raw/master/autzen/autzen.laz"
      ],
      "metadata": {
        "id": "bi1KAxwhtNfm"
      },
      "execution_count": null,
      "outputs": []
    },
    {
      "cell_type": "code",
      "source": [
        "# !source activate myenv && pdal info /content/autzen.laz -p 0"
      ],
      "metadata": {
        "id": "vhs8RbbRtZRe"
      },
      "execution_count": null,
      "outputs": []
    },
    {
      "cell_type": "code",
      "source": [
        "!source activate myenv && pdal info \"/content/drive/Shareddrives/Unlimited Drive/Tree_Paper/PointCloud.las\" -p 0"
      ],
      "metadata": {
        "colab": {
          "base_uri": "https://localhost:8080/"
        },
        "id": "8M4T0LNFtD39",
        "outputId": "1be4951c-b36e-4632-84d6-dbc2195a3f42"
      },
      "execution_count": null,
      "outputs": [
        {
          "output_type": "stream",
          "name": "stdout",
          "text": [
            "{\n",
            "  \"file_size\": 354421476,\n",
            "  \"filename\": \"/content/drive/Shareddrives/Unlimited Drive/Tree_Paper/PointCloud.las\",\n",
            "  \"now\": \"2022-06-07T11:13:05+0000\",\n",
            "  \"pdal_version\": \"2.3.0 (git-version: 4f9aeb)\",\n",
            "  \"points\":\n",
            "  {\n",
            "    \"point\":\n",
            "    {\n",
            "      \"Blue\": 42405,\n",
            "      \"Classification\": 0,\n",
            "      \"EdgeOfFlightLine\": 0,\n",
            "      \"Green\": 49858,\n",
            "      \"Intensity\": 48830,\n",
            "      \"NumberOfReturns\": 1,\n",
            "      \"PointId\": 0,\n",
            "      \"PointSourceId\": 1,\n",
            "      \"Red\": 49601,\n",
            "      \"ReturnNumber\": 1,\n",
            "      \"ScanAngleRank\": 0,\n",
            "      \"ScanDirectionFlag\": 1,\n",
            "      \"UserData\": 0,\n",
            "      \"X\": 593022.248,\n",
            "      \"Y\": 4048693.915,\n",
            "      \"Z\": -14.369\n",
            "    }\n",
            "  },\n",
            "  \"reader\": \"readers.las\"\n",
            "}\n"
          ]
        }
      ]
    },
    {
      "cell_type": "code",
      "source": [
        "# Ground Filtering\n",
        "json1 = \"\"\"\n",
        "{\n",
        "  \"pipeline\":[\n",
        "    \"/content/point.las\",\n",
        "    {\n",
        "      \"type\":\"filters.smrf\",\n",
        "      \"scalar\":1.2,\n",
        "      \"slope\":0.2,\n",
        "      \"threshold\":0.45,\n",
        "      \"window\":16.0\n",
        "    },\n",
        "    \"/content/ground_PDAL_open.las\"\n",
        "  ]\n",
        "}\"\"\""
      ],
      "metadata": {
        "id": "qD8w71tutakk"
      },
      "execution_count": null,
      "outputs": []
    },
    {
      "cell_type": "code",
      "source": [
        "!source activate myenv && pipeline = pdal.Pipeline(json1)"
      ],
      "metadata": {
        "colab": {
          "base_uri": "https://localhost:8080/"
        },
        "id": "m80Qr3nZ1IUz",
        "outputId": "d1befa54-730d-4443-f479-9fba512e9365"
      },
      "execution_count": null,
      "outputs": [
        {
          "output_type": "stream",
          "name": "stdout",
          "text": [
            "/bin/bash: -c: line 0: syntax error near unexpected token `('\n",
            "/bin/bash: -c: line 0: `source activate myenv && pipeline = pdal.Pipeline(json1)'\n"
          ]
        }
      ]
    },
    {
      "cell_type": "code",
      "source": [
        "!source activate myenv && pipeline.validate()"
      ],
      "metadata": {
        "id": "BZjk7Doh1IOs"
      },
      "execution_count": null,
      "outputs": []
    },
    {
      "cell_type": "code",
      "source": [
        "!source activate myenv && pipeline.execute()"
      ],
      "metadata": {
        "id": "X9vqSrluthmM"
      },
      "execution_count": null,
      "outputs": []
    },
    {
      "cell_type": "markdown",
      "source": [
        "# Another way"
      ],
      "metadata": {
        "id": "oXXrnVeT3FqV"
      }
    },
    {
      "cell_type": "code",
      "source": [
        "!pip install -q condacolab\n",
        "import condacolab\n",
        "condacolab.install()"
      ],
      "metadata": {
        "colab": {
          "base_uri": "https://localhost:8080/"
        },
        "id": "3R_TUxos3Mp2",
        "outputId": "857f6f53-776a-41b0-ffe1-b0f48596f601"
      },
      "execution_count": null,
      "outputs": [
        {
          "output_type": "stream",
          "name": "stdout",
          "text": [
            "⏬ Downloading https://github.com/jaimergp/miniforge/releases/latest/download/Mambaforge-colab-Linux-x86_64.sh...\n",
            "📦 Installing...\n",
            "📌 Adjusting configuration...\n",
            "🩹 Patching environment...\n",
            "⏲ Done in 0:00:31\n",
            "🔁 Restarting kernel...\n"
          ]
        }
      ]
    },
    {
      "cell_type": "code",
      "source": [
        "import condacolab\n",
        "condacolab.check()"
      ],
      "metadata": {
        "colab": {
          "base_uri": "https://localhost:8080/"
        },
        "id": "LBgjiqRG35zE",
        "outputId": "cf3cfea9-898c-4ed2-e145-df35510014cc"
      },
      "execution_count": null,
      "outputs": [
        {
          "output_type": "stream",
          "name": "stdout",
          "text": [
            "✨🍰✨ Everything looks OK!\n"
          ]
        }
      ]
    },
    {
      "cell_type": "code",
      "source": [
        "!conda install -c conda-forge pdal"
      ],
      "metadata": {
        "id": "m3-kCcIe3hQ_"
      },
      "execution_count": null,
      "outputs": []
    },
    {
      "cell_type": "code",
      "source": [
        "!pdal info /content/point.las -p 0"
      ],
      "metadata": {
        "id": "TK41eSsQ6CPc"
      },
      "execution_count": null,
      "outputs": []
    },
    {
      "cell_type": "code",
      "source": [
        "!pdal.Pipeline(json1)"
      ],
      "metadata": {
        "id": "S47DUtf64ywU"
      },
      "execution_count": null,
      "outputs": []
    },
    {
      "cell_type": "code",
      "source": [
        "import shutil\n",
        "shutil.copyfile(\"/content/drive/Shareddrives/Unlimited Drive/Tree_Paper/PointCloud.las\", \"/content/point.las\")"
      ],
      "metadata": {
        "colab": {
          "base_uri": "https://localhost:8080/",
          "height": 36
        },
        "id": "zvVMBbmb6Du7",
        "outputId": "360c45eb-9557-4235-9f86-fed385ead02e"
      },
      "execution_count": null,
      "outputs": [
        {
          "output_type": "execute_result",
          "data": {
            "text/plain": [
              "'/content/point.las'"
            ],
            "application/vnd.google.colaboratory.intrinsic+json": {
              "type": "string"
            }
          },
          "metadata": {},
          "execution_count": 4
        }
      ]
    }
  ]
}